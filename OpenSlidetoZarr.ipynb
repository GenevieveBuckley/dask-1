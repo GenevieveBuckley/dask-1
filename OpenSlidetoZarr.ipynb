{
 "cells": [
  {
   "cell_type": "code",
   "execution_count": 1,
   "metadata": {},
   "outputs": [],
   "source": [
    "import dask_image.imread\n",
    "import dask_image.ndfourier\n",
    "import zarr\n",
    "import matplotlib.pyplot as plt\n",
    "from openslide import OpenSlide\n",
    "import numpy as np"
   ]
  },
  {
   "cell_type": "code",
   "execution_count": 2,
   "metadata": {},
   "outputs": [],
   "source": [
    "slide = OpenSlide('/Users/swang/Python/dask/dask images/tumor_001.tif')"
   ]
  },
  {
   "cell_type": "code",
   "execution_count": 19,
   "metadata": {},
   "outputs": [],
   "source": [
    "# New Code to break sections\n",
    "from numcodecs import Blosc\n",
    "compressor = Blosc(cname='zstd', clevel=8, shuffle=Blosc.BITSHUFFLE)\n",
    "\n",
    "max_y = slide.level_dimensions[0][0]\n",
    "max_x = slide.level_dimensions[0][1]"
   ]
  },
  {
   "cell_type": "code",
   "execution_count": 20,
   "metadata": {},
   "outputs": [
    {
     "data": {
      "text/plain": [
       "((97792, 221184),\n",
       " (48896, 110592),\n",
       " (24448, 55296),\n",
       " (12224, 27648),\n",
       " (6112, 13824),\n",
       " (3056, 6912),\n",
       " (1528, 3456),\n",
       " (764, 1728),\n",
       " (382, 864),\n",
       " (191, 432))"
      ]
     },
     "execution_count": 20,
     "metadata": {},
     "output_type": "execute_result"
    }
   ],
   "source": [
    "slide.level_dimensions"
   ]
  },
  {
   "cell_type": "code",
   "execution_count": 21,
   "metadata": {},
   "outputs": [
    {
     "data": {
      "text/plain": [
       "97792"
      ]
     },
     "execution_count": 21,
     "metadata": {},
     "output_type": "execute_result"
    }
   ],
   "source": [
    "max_y"
   ]
  },
  {
   "cell_type": "code",
   "execution_count": 12,
   "metadata": {},
   "outputs": [
    {
     "data": {
      "text/plain": [
       "int"
      ]
     },
     "execution_count": 12,
     "metadata": {},
     "output_type": "execute_result"
    }
   ],
   "source": [
    "type(max_y)"
   ]
  },
  {
   "cell_type": "code",
   "execution_count": 22,
   "metadata": {},
   "outputs": [
    {
     "data": {
      "text/html": [
       "<table class=\"zarr-info\"><tbody><tr><th style=\"text-align: left\">Type</th><td style=\"text-align: left\">zarr.core.Array</td></tr><tr><th style=\"text-align: left\">Data type</th><td style=\"text-align: left\">uint8</td></tr><tr><th style=\"text-align: left\">Shape</th><td style=\"text-align: left\">(1528, 221184, 4)</td></tr><tr><th style=\"text-align: left\">Chunk shape</th><td style=\"text-align: left\">(1528, 221184, 4)</td></tr><tr><th style=\"text-align: left\">Order</th><td style=\"text-align: left\">C</td></tr><tr><th style=\"text-align: left\">Read-only</th><td style=\"text-align: left\">False</td></tr><tr><th style=\"text-align: left\">Compressor</th><td style=\"text-align: left\">Blosc(cname='zstd', clevel=8, shuffle=BITSHUFFLE, blocksize=0)</td></tr><tr><th style=\"text-align: left\">Store type</th><td style=\"text-align: left\">builtins.dict</td></tr><tr><th style=\"text-align: left\">No. bytes</th><td style=\"text-align: left\">1351876608 (1.3G)</td></tr><tr><th style=\"text-align: left\">No. bytes stored</th><td style=\"text-align: left\">192983986 (184.0M)</td></tr><tr><th style=\"text-align: left\">Storage ratio</th><td style=\"text-align: left\">7.0</td></tr><tr><th style=\"text-align: left\">Chunks initialized</th><td style=\"text-align: left\">1/1</td></tr></tbody></table>"
      ],
      "text/plain": [
       "Type               : zarr.core.Array\n",
       "Data type          : uint8\n",
       "Shape              : (1528, 221184, 4)\n",
       "Chunk shape        : (1528, 221184, 4)\n",
       "Order              : C\n",
       "Read-only          : False\n",
       "Compressor         : Blosc(cname='zstd', clevel=8, shuffle=BITSHUFFLE,\n",
       "                   : blocksize=0)\n",
       "Store type         : builtins.dict\n",
       "No. bytes          : 1351876608 (1.3G)\n",
       "No. bytes stored   : 192983986 (184.0M)\n",
       "Storage ratio      : 7.0\n",
       "Chunks initialized : 1/1"
      ]
     },
     "execution_count": 22,
     "metadata": {},
     "output_type": "execute_result"
    }
   ],
   "source": [
    "layer = slide.read_region([0, 0], 0, [max_x, int(max_y/64)])\n",
    "np_array = np.asarray(layer)\n",
    "zarray = zarr.array(np_array, chunks=(max_y/64, max_x, 4), compressor=compressor)\n",
    "zarray.info"
   ]
  },
  {
   "cell_type": "code",
   "execution_count": null,
   "metadata": {},
   "outputs": [
    {
     "name": "stdout",
     "output_type": "stream",
     "text": [
      "1528.0\n",
      "(1528, 221184, 4)\n"
     ]
    }
   ],
   "source": [
    "for i in range(1, 3):\n",
    "    print(max_y*i/64)\n",
    "    a = int(max_y*i/64)\n",
    "    b = int(max_y/64)\n",
    "    layer = slide.read_region([a, 0], 0, [max_x, b])\n",
    "    np_array = np.asarray(layer)\n",
    "    print(np_array.shape)\n",
    "    \n",
    "\n",
    "    z1 = zarr.array(np_array, chunks=(max_y/64, max_x, 4), compressor=compressor)\n",
    "    print(z1.info)\n",
    "    zarray.append(z1)"
   ]
  },
  {
   "cell_type": "code",
   "execution_count": 18,
   "metadata": {},
   "outputs": [
    {
     "data": {
      "text/html": [
       "<table class=\"zarr-info\"><tbody><tr><th style=\"text-align: left\">Type</th><td style=\"text-align: left\">zarr.core.Array</td></tr><tr><th style=\"text-align: left\">Data type</th><td style=\"text-align: left\">uint8</td></tr><tr><th style=\"text-align: left\">Shape</th><td style=\"text-align: left\">(1146, 55296, 4)</td></tr><tr><th style=\"text-align: left\">Chunk shape</th><td style=\"text-align: left\">(382, 55296, 4)</td></tr><tr><th style=\"text-align: left\">Order</th><td style=\"text-align: left\">C</td></tr><tr><th style=\"text-align: left\">Read-only</th><td style=\"text-align: left\">False</td></tr><tr><th style=\"text-align: left\">Compressor</th><td style=\"text-align: left\">Blosc(cname='zstd', clevel=8, shuffle=BITSHUFFLE, blocksize=0)</td></tr><tr><th style=\"text-align: left\">Store type</th><td style=\"text-align: left\">builtins.dict</td></tr><tr><th style=\"text-align: left\">No. bytes</th><td style=\"text-align: left\">253476864 (241.7M)</td></tr><tr><th style=\"text-align: left\">No. bytes stored</th><td style=\"text-align: left\">33985912 (32.4M)</td></tr><tr><th style=\"text-align: left\">Storage ratio</th><td style=\"text-align: left\">7.5</td></tr><tr><th style=\"text-align: left\">Chunks initialized</th><td style=\"text-align: left\">3/3</td></tr></tbody></table>"
      ],
      "text/plain": [
       "Type               : zarr.core.Array\n",
       "Data type          : uint8\n",
       "Shape              : (1146, 55296, 4)\n",
       "Chunk shape        : (382, 55296, 4)\n",
       "Order              : C\n",
       "Read-only          : False\n",
       "Compressor         : Blosc(cname='zstd', clevel=8, shuffle=BITSHUFFLE,\n",
       "                   : blocksize=0)\n",
       "Store type         : builtins.dict\n",
       "No. bytes          : 253476864 (241.7M)\n",
       "No. bytes stored   : 33985912 (32.4M)\n",
       "Storage ratio      : 7.5\n",
       "Chunks initialized : 3/3"
      ]
     },
     "execution_count": 18,
     "metadata": {},
     "output_type": "execute_result"
    }
   ],
   "source": [
    "zarray.info"
   ]
  },
  {
   "cell_type": "code",
   "execution_count": 98,
   "metadata": {},
   "outputs": [],
   "source": [
    "storage_path = '/Users/swang/Python/dask/dask zarr files/imgzarrtest'\n",
    "zarr.convenience.save(storage_path, zarray)"
   ]
  },
  {
   "cell_type": "code",
   "execution_count": null,
   "metadata": {},
   "outputs": [],
   "source": []
  }
 ],
 "metadata": {
  "kernelspec": {
   "display_name": "Python 3",
   "language": "python",
   "name": "python3"
  },
  "language_info": {
   "codemirror_mode": {
    "name": "ipython",
    "version": 3
   },
   "file_extension": ".py",
   "mimetype": "text/x-python",
   "name": "python",
   "nbconvert_exporter": "python",
   "pygments_lexer": "ipython3",
   "version": "3.7.3"
  }
 },
 "nbformat": 4,
 "nbformat_minor": 4
}
